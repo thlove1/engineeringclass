{
 "cells": [
  {
   "cell_type": "markdown",
   "metadata": {},
   "source": [
    "연립일차방정식은 ax+by+c=0, dx+ey+f=0 의 형태이다, 이때 연립일차방정식의 해를 자동으로 구해주는 프로그램을 만들어라.\n",
    "\n",
    "연립일차방정식의 풀이법은 가감법과 대입법이 있다. 가감법은 연립일차방정식의 두 일차방정식에 적당한 수를 곱한 후 두 방정식을 빼 한 미지수의 해를 구하고 다른 미지수의 해를 구할 수 있고, 대입법은 예를 들어 y = x + 2같이 연립일차방정식의 한 일차방정식을 적당하게 이항해 만든 후 다른 연립일차방정식의 일차방정식에 대입시켜 한 미지수의 값을 구한 후 다른 미지수 값을 구한다.\n",
    "(x+2)/5 + (2y+2)/7 = 2/5, x/2 + y/3 = 5같이 a,a',b,b'에 분수가 들어가는 것은 제외시켜도 된다.\n",
    "해가 특수한 경우는 추가해야 한다.\n",
    "가감법을 추천드립니다.\n",
    "문제에 대한 문제가 있는 경우 알려주세요. 수정하겠습니다."
   ]
  },
  {
   "cell_type": "code",
   "execution_count": 33,
   "metadata": {},
   "outputs": [
    {
     "name": "stdout",
     "output_type": "stream",
     "text": [
      "['2', '3', '4', '5', '6', '-8']\n",
      "[ 2  3  4  5  6 -8]\n",
      "[2 3 4]\n",
      "[ 5  6 -8]\n",
      "0.5999999999999996 -1.2\n"
     ]
    }
   ],
   "source": [
    "#연립방정식 구하기?\n",
    "import numpy as np\n",
    "import re\n",
    "\n",
    "string = \"2x+3y+4=5x+6y-8\" #input(\"ax+by+c=dx +ey+f 기준\")\n",
    "numbers = re.findall(\"-?\\d+\", string) # 음수포함 추출기\n",
    "print(numbers)\n",
    "numarray = np.asarray(list(map(int, numbers))) \n",
    "print(numarray)\n",
    "leftarray = numarray[0:3]\n",
    "rightarray = numarray[3:6]\n",
    "print(leftarray)\n",
    "print(rightarray)\n",
    "\n",
    "left2 = rightarray[0] * leftarray\n",
    "right2 = leftarray * rightarray\n",
    "y = -right2[1]/left2[1]  \n",
    "x = (-1 * leftarray[1] * y - c) / a\n",
    "print(x , y)\n"
   ]
  },
  {
   "cell_type": "markdown",
   "metadata": {},
   "source": [
    "abcdef 다받기\n",
    "ad를 k로 정하기\n",
    "k/a를 abc에 곱하고 vartwo 꼴로 만들기 \n",
    "k/d를 def에 곱하고 똑같이 \n",
    "\n",
    "b2 - e2가 y고,  c2 - f2가 상수값이니까\n",
    "a2y + c2 = 0, y = -c2/a2.\n",
    "ax + by + c = 0꼴에\n",
    "ax = -by - c\n",
    "x = -by - c / a\n",
    "\n"
   ]
  },
  {
   "cell_type": "code",
   "execution_count": 17,
   "metadata": {},
   "outputs": [
    {
     "name": "stdout",
     "output_type": "stream",
     "text": [
      "[3 4 3 7 3 2]\n"
     ]
    }
   ],
   "source": [
    "import re\n",
    "\n",
    "string = input(\"ax+by+c=dx+ey+f 기준\")\n",
    "numbers = (re.sub(r'[^0-9]', '', string))\n",
    "numarray = np.asarray(list(map(int, numbers)))    \n"
   ]
  },
  {
   "cell_type": "markdown",
   "metadata": {},
   "source": []
  }
 ],
 "metadata": {
  "kernelspec": {
   "display_name": "Python 3.10.4 64-bit",
   "language": "python",
   "name": "python3"
  },
  "language_info": {
   "codemirror_mode": {
    "name": "ipython",
    "version": 3
   },
   "file_extension": ".py",
   "mimetype": "text/x-python",
   "name": "python",
   "nbconvert_exporter": "python",
   "pygments_lexer": "ipython3",
   "version": "3.10.7"
  },
  "orig_nbformat": 4,
  "vscode": {
   "interpreter": {
    "hash": "26de051ba29f2982a8de78e945f0abaf191376122a1563185a90213a26c5da77"
   }
  }
 },
 "nbformat": 4,
 "nbformat_minor": 2
}
