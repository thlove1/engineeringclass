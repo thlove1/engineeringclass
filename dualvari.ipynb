{
 "cells": [
  {
   "cell_type": "code",
   "execution_count": 15,
   "metadata": {},
   "outputs": [
    {
     "name": "stdout",
     "output_type": "stream",
     "text": [
      "ax+by+c=dx+ey+f 기준\n",
      "[1 2 3] [4 5 6]\n",
      "[1 2 3] [4 5 6]\n",
      "-3.0 3\n"
     ]
    }
   ],
   "source": [
    "\n",
    "import numpy as np\n",
    "print(\"ax+by+c=dx+ey+f 기준\")\n",
    "a = int(input(\"a\"))\n",
    "b = int(input(\"b\"))\n",
    "c = int(input(\"c\"))\n",
    "d = int(input(\"d\"))\n",
    "e = int(input(\"e\"))\n",
    "f = int(input(\"f\"))\n",
    "left = np.array([a,b,c])\n",
    "right = np.array([d,e,f])\n",
    "\n",
    "\n",
    "left2 = d * left\n",
    "right2 = a * right\n",
    "y = left2[1] - right2[1]  \n",
    "x = (-1 * b * y + c) / a\n",
    "print(left , right)\n",
    "print(x , y)\n"
   ]
  },
  {
   "cell_type": "markdown",
   "metadata": {},
   "source": [
    "abcdef 다받기\n",
    "ad를 k로 정하기\n",
    "k/a를 abc에 곱하고 vartwo 꼴로 만들기 \n",
    "k/d를 def에 곱하고 똑같이 \n",
    "\n",
    "b2 - e2가 y고,  c2 - f2가 상수값이니까\n",
    "a2y + c2 = 0, y = -c2/a2.\n",
    "ax + by + c = 0꼴에\n",
    "ax = -by - c\n",
    "x = -by - c / a\n",
    "\n"
   ]
  },
  {
   "cell_type": "markdown",
   "metadata": {},
   "source": [
    "연립일차방정식은 ax+by+c=0, dx+ey+f=0 의 형태이다, 이때 연립일차방정식의 해를 자동으로 구해주는 프로그램을 만들어라.\n",
    "\n",
    "연립일차방정식의 풀이법은 가감법과 대입법이 있다. 가감법은 연립일차방정식의 두 일차방정식에 적당한 수를 곱한 후 두 방정식을 빼 한 미지수의 해를 구하고 다른 미지수의 해를 구할 수 있고, 대입법은 예를 들어 y = x + 2같이 연립일차방정식의 한 일차방정식을 적당하게 이항해 만든 후 다른 연립일차방정식의 일차방정식에 대입시켜 한 미지수의 값을 구한 후 다른 미지수 값을 구한다.\n",
    "(x+2)/5 + (2y+2)/7 = 2/5, x/2 + y/3 = 5같이 a,a',b,b'에 분수가 들어가는 것은 제외시켜도 된다.\n",
    "해가 특수한 경우는 추가해야 한다.\n",
    "가감법을 추천드립니다.\n",
    "문제에 대한 문제가 있는 경우 알려주세요. 수정하겠습니다."
   ]
  }
 ],
 "metadata": {
  "kernelspec": {
   "display_name": "Python 3.10.4 64-bit",
   "language": "python",
   "name": "python3"
  },
  "language_info": {
   "codemirror_mode": {
    "name": "ipython",
    "version": 3
   },
   "file_extension": ".py",
   "mimetype": "text/x-python",
   "name": "python",
   "nbconvert_exporter": "python",
   "pygments_lexer": "ipython3",
   "version": "3.10.4"
  },
  "orig_nbformat": 4,
  "vscode": {
   "interpreter": {
    "hash": "26de051ba29f2982a8de78e945f0abaf191376122a1563185a90213a26c5da77"
   }
  }
 },
 "nbformat": 4,
 "nbformat_minor": 2
}
